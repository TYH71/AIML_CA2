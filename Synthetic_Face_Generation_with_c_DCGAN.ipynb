{
  "nbformat": 4,
  "nbformat_minor": 0,
  "metadata": {
    "colab": {
      "name": "Synthetic Face Generation with c-DCGAN.ipynb",
      "provenance": [],
      "collapsed_sections": [],
      "mount_file_id": "1c17Gwmb4bckcMkY7fh4ffQ-DuLzTR5M9",
      "authorship_tag": "ABX9TyPfPDYdvVt0mt74xIRGRseF",
      "include_colab_link": true
    },
    "kernelspec": {
      "name": "python3",
      "display_name": "Python 3"
    },
    "language_info": {
      "name": "python"
    }
  },
  "cells": [
    {
      "cell_type": "markdown",
      "metadata": {
        "id": "view-in-github",
        "colab_type": "text"
      },
      "source": [
        "<a href=\"https://colab.research.google.com/github/TYH71/AIML_CA2/blob/main/Synthetic_Face_Generation_with_c_DCGAN.ipynb\" target=\"_parent\"><img src=\"https://colab.research.google.com/assets/colab-badge.svg\" alt=\"Open In Colab\"/></a>"
      ]
    },
    {
      "cell_type": "code",
      "source": [
        "import os"
      ],
      "metadata": {
        "id": "Vs_LOBUMcWai"
      },
      "execution_count": 32,
      "outputs": []
    },
    {
      "cell_type": "markdown",
      "source": [
        "## Kaggle Configuration\n",
        "\n",
        "The dataset will be directly downloaded from Kaggle via CLI. An access key is used for secure access to my Kaggle account.\n",
        "\n",
        "! Note to self: Ensure that Drive is mounted before running any commands."
      ],
      "metadata": {
        "id": "JeQwdsmlZtHb"
      }
    },
    {
      "cell_type": "code",
      "source": [
        "# Configure Kaggle\n",
        "! pip install -q kaggle\n",
        "! rm -r ~/.kaggle; mkdir ~/.kaggle\n",
        "! cp /content/drive/MyDrive/kaggle.json ~/.kaggle/kaggle.json\n",
        "! chmod 600 ~/.kaggle/kaggle.json"
      ],
      "metadata": {
        "id": "lPRv94_HSAvZ"
      },
      "execution_count": 34,
      "outputs": []
    },
    {
      "cell_type": "code",
      "source": [
        "# Download and Unzip files\n",
        "! kaggle datasets download -d jessicali9530/celeba-dataset\n",
        "! unzip -n celeba-dataset # unzip without overwriting existing files"
      ],
      "metadata": {
        "colab": {
          "base_uri": "https://localhost:8080/"
        },
        "id": "VgtsJU0iTHWT",
        "outputId": "2aa4a6cf-5b5d-470f-acfc-1cfaf2de8369"
      },
      "execution_count": 35,
      "outputs": [
        {
          "output_type": "stream",
          "name": "stdout",
          "text": [
            "celeba-dataset.zip: Skipping, found more recently modified local copy (use --force to force download)\n",
            "Archive:  celeba-dataset.zip\n"
          ]
        }
      ]
    },
    {
      "cell_type": "code",
      "source": [
        ""
      ],
      "metadata": {
        "id": "XGsI5Ghmbukl"
      },
      "execution_count": 35,
      "outputs": []
    }
  ]
}