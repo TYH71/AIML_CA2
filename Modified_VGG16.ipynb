{
  "nbformat": 4,
  "nbformat_minor": 0,
  "metadata": {
    "colab": {
      "name": "Modified_VGG16.ipynb",
      "provenance": [],
      "machine_shape": "hm",
      "authorship_tag": "ABX9TyM8VdHN0DZxMCslkyCtYU+i",
      "include_colab_link": true
    },
    "kernelspec": {
      "name": "python3",
      "display_name": "Python 3"
    },
    "language_info": {
      "name": "python"
    },
    "accelerator": "GPU",
    "widgets": {
      "application/vnd.jupyter.widget-state+json": {
        "8b51d3f88c2d41e0a1a00bfac35f57dc": {
          "model_module": "@jupyter-widgets/controls",
          "model_name": "VBoxModel",
          "model_module_version": "1.5.0",
          "state": {
            "_view_name": "VBoxView",
            "_dom_classes": [],
            "_model_name": "VBoxModel",
            "_view_module": "@jupyter-widgets/controls",
            "_model_module_version": "1.5.0",
            "_view_count": null,
            "_view_module_version": "1.5.0",
            "box_style": "",
            "layout": "IPY_MODEL_62d52dedb83a4f44a19a35b5118338ff",
            "_model_module": "@jupyter-widgets/controls",
            "children": [
              "IPY_MODEL_f0d46c5a01174b62a34600bb110ac883",
              "IPY_MODEL_ff0722571073412687f1fb791cd59fcf"
            ]
          }
        },
        "62d52dedb83a4f44a19a35b5118338ff": {
          "model_module": "@jupyter-widgets/base",
          "model_name": "LayoutModel",
          "model_module_version": "1.2.0",
          "state": {
            "_view_name": "LayoutView",
            "grid_template_rows": null,
            "right": null,
            "justify_content": null,
            "_view_module": "@jupyter-widgets/base",
            "overflow": null,
            "_model_module_version": "1.2.0",
            "_view_count": null,
            "flex_flow": null,
            "width": null,
            "min_width": null,
            "border": null,
            "align_items": null,
            "bottom": null,
            "_model_module": "@jupyter-widgets/base",
            "top": null,
            "grid_column": null,
            "overflow_y": null,
            "overflow_x": null,
            "grid_auto_flow": null,
            "grid_area": null,
            "grid_template_columns": null,
            "flex": null,
            "_model_name": "LayoutModel",
            "justify_items": null,
            "grid_row": null,
            "max_height": null,
            "align_content": null,
            "visibility": null,
            "align_self": null,
            "height": null,
            "min_height": null,
            "padding": null,
            "grid_auto_rows": null,
            "grid_gap": null,
            "max_width": null,
            "order": null,
            "_view_module_version": "1.2.0",
            "grid_template_areas": null,
            "object_position": null,
            "object_fit": null,
            "grid_auto_columns": null,
            "margin": null,
            "display": null,
            "left": null
          }
        },
        "f0d46c5a01174b62a34600bb110ac883": {
          "model_module": "@jupyter-widgets/controls",
          "model_name": "LabelModel",
          "model_module_version": "1.5.0",
          "state": {
            "_view_name": "LabelView",
            "style": "IPY_MODEL_67c4c72972f04bdb9d4551c720de8d5d",
            "_dom_classes": [],
            "description": "",
            "_model_name": "LabelModel",
            "placeholder": "​",
            "_view_module": "@jupyter-widgets/controls",
            "_model_module_version": "1.5.0",
            "value": " 87.71MB of 87.71MB uploaded (0.00MB deduped)\r",
            "_view_count": null,
            "_view_module_version": "1.5.0",
            "description_tooltip": null,
            "_model_module": "@jupyter-widgets/controls",
            "layout": "IPY_MODEL_3ba9ea9e654844a0a6cd95c81439bc5c"
          }
        },
        "ff0722571073412687f1fb791cd59fcf": {
          "model_module": "@jupyter-widgets/controls",
          "model_name": "FloatProgressModel",
          "model_module_version": "1.5.0",
          "state": {
            "_view_name": "ProgressView",
            "style": "IPY_MODEL_f834a9cc71f1443a94f1019f3aea2195",
            "_dom_classes": [],
            "description": "",
            "_model_name": "FloatProgressModel",
            "bar_style": "",
            "max": 1,
            "_view_module": "@jupyter-widgets/controls",
            "_model_module_version": "1.5.0",
            "value": 1,
            "_view_count": null,
            "_view_module_version": "1.5.0",
            "orientation": "horizontal",
            "min": 0,
            "description_tooltip": null,
            "_model_module": "@jupyter-widgets/controls",
            "layout": "IPY_MODEL_2fd55eec4221409dbb0cd201f6a83a0f"
          }
        },
        "67c4c72972f04bdb9d4551c720de8d5d": {
          "model_module": "@jupyter-widgets/controls",
          "model_name": "DescriptionStyleModel",
          "model_module_version": "1.5.0",
          "state": {
            "_view_name": "StyleView",
            "_model_name": "DescriptionStyleModel",
            "description_width": "",
            "_view_module": "@jupyter-widgets/base",
            "_model_module_version": "1.5.0",
            "_view_count": null,
            "_view_module_version": "1.2.0",
            "_model_module": "@jupyter-widgets/controls"
          }
        },
        "3ba9ea9e654844a0a6cd95c81439bc5c": {
          "model_module": "@jupyter-widgets/base",
          "model_name": "LayoutModel",
          "model_module_version": "1.2.0",
          "state": {
            "_view_name": "LayoutView",
            "grid_template_rows": null,
            "right": null,
            "justify_content": null,
            "_view_module": "@jupyter-widgets/base",
            "overflow": null,
            "_model_module_version": "1.2.0",
            "_view_count": null,
            "flex_flow": null,
            "width": null,
            "min_width": null,
            "border": null,
            "align_items": null,
            "bottom": null,
            "_model_module": "@jupyter-widgets/base",
            "top": null,
            "grid_column": null,
            "overflow_y": null,
            "overflow_x": null,
            "grid_auto_flow": null,
            "grid_area": null,
            "grid_template_columns": null,
            "flex": null,
            "_model_name": "LayoutModel",
            "justify_items": null,
            "grid_row": null,
            "max_height": null,
            "align_content": null,
            "visibility": null,
            "align_self": null,
            "height": null,
            "min_height": null,
            "padding": null,
            "grid_auto_rows": null,
            "grid_gap": null,
            "max_width": null,
            "order": null,
            "_view_module_version": "1.2.0",
            "grid_template_areas": null,
            "object_position": null,
            "object_fit": null,
            "grid_auto_columns": null,
            "margin": null,
            "display": null,
            "left": null
          }
        },
        "f834a9cc71f1443a94f1019f3aea2195": {
          "model_module": "@jupyter-widgets/controls",
          "model_name": "ProgressStyleModel",
          "model_module_version": "1.5.0",
          "state": {
            "_view_name": "StyleView",
            "_model_name": "ProgressStyleModel",
            "description_width": "",
            "_view_module": "@jupyter-widgets/base",
            "_model_module_version": "1.5.0",
            "_view_count": null,
            "_view_module_version": "1.2.0",
            "bar_color": null,
            "_model_module": "@jupyter-widgets/controls"
          }
        },
        "2fd55eec4221409dbb0cd201f6a83a0f": {
          "model_module": "@jupyter-widgets/base",
          "model_name": "LayoutModel",
          "model_module_version": "1.2.0",
          "state": {
            "_view_name": "LayoutView",
            "grid_template_rows": null,
            "right": null,
            "justify_content": null,
            "_view_module": "@jupyter-widgets/base",
            "overflow": null,
            "_model_module_version": "1.2.0",
            "_view_count": null,
            "flex_flow": null,
            "width": null,
            "min_width": null,
            "border": null,
            "align_items": null,
            "bottom": null,
            "_model_module": "@jupyter-widgets/base",
            "top": null,
            "grid_column": null,
            "overflow_y": null,
            "overflow_x": null,
            "grid_auto_flow": null,
            "grid_area": null,
            "grid_template_columns": null,
            "flex": null,
            "_model_name": "LayoutModel",
            "justify_items": null,
            "grid_row": null,
            "max_height": null,
            "align_content": null,
            "visibility": null,
            "align_self": null,
            "height": null,
            "min_height": null,
            "padding": null,
            "grid_auto_rows": null,
            "grid_gap": null,
            "max_width": null,
            "order": null,
            "_view_module_version": "1.2.0",
            "grid_template_areas": null,
            "object_position": null,
            "object_fit": null,
            "grid_auto_columns": null,
            "margin": null,
            "display": null,
            "left": null
          }
        }
      }
    }
  },
  "cells": [
    {
      "cell_type": "markdown",
      "metadata": {
        "id": "view-in-github",
        "colab_type": "text"
      },
      "source": [
        "<a href=\"https://colab.research.google.com/github/TYH71/AIML_CA2/blob/main/Modified_VGG16.ipynb\" target=\"_parent\"><img src=\"https://colab.research.google.com/assets/colab-badge.svg\" alt=\"Open In Colab\"/></a>"
      ]
    },
    {
      "cell_type": "code",
      "metadata": {
        "id": "WVWS-rV61CGM"
      },
      "source": [
        "# import relevant libraries/classes/dependencies\n",
        "import os\n",
        "import random\n",
        "\n",
        "import matplotlib.pyplot as plt\n",
        "import seaborn as sns\n",
        "import numpy as np\n",
        "import pandas as pd\n",
        "import tensorflow as tf\n",
        "from tensorflow import keras\n",
        "from tensorflow.keras.datasets import cifar10\n",
        "import datetime\n",
        "!pip install -q pytz\n",
        "import pytz\n",
        "sg = pytz.timezone(\"Singapore\")\n",
        "\n",
        "# Set the random seeds - to ensure reproducibility\n",
        "os.environ['TF_CUDNN_DETERMINISTIC'] = \"1\"\n",
        "random.seed(1)\n",
        "np.random.seed(1)\n",
        "tf.random.set_seed(1)"
      ],
      "execution_count": 1,
      "outputs": []
    },
    {
      "cell_type": "code",
      "metadata": {
        "id": "812ozuMT1GbI"
      },
      "source": [
        "# Matplotlib Stylings\n",
        "plt.rcParams['figure.figsize'] = (12, 6)\n",
        "plt.rcParams['figure.autolayout'] = True\n",
        "plt.style.use('fivethirtyeight')"
      ],
      "execution_count": 2,
      "outputs": []
    },
    {
      "cell_type": "code",
      "metadata": {
        "colab": {
          "base_uri": "https://localhost:8080/"
        },
        "id": "2_ozPjg51Heh",
        "outputId": "7a174f05-9bb5-425a-84e6-007a6362d9e1"
      },
      "source": [
        "# install and configure weights and biases\n",
        "!pip install -q wandb\n",
        "import wandb\n",
        "from wandb.keras import WandbCallback\n",
        "wandb.login()"
      ],
      "execution_count": 3,
      "outputs": [
        {
          "output_type": "stream",
          "name": "stderr",
          "text": [
            "\u001b[34m\u001b[1mwandb\u001b[0m: Currently logged in as: \u001b[33mtyh71\u001b[0m (use `wandb login --relogin` to force relogin)\n"
          ]
        },
        {
          "output_type": "execute_result",
          "data": {
            "text/plain": [
              "True"
            ]
          },
          "metadata": {},
          "execution_count": 3
        }
      ]
    },
    {
      "cell_type": "code",
      "metadata": {
        "colab": {
          "base_uri": "https://localhost:8080/"
        },
        "id": "ugaKuEhM1IvT",
        "outputId": "175052b4-6196-4d7a-dae4-06672fa0f4ee"
      },
      "source": [
        "!nvidia-smi"
      ],
      "execution_count": 4,
      "outputs": [
        {
          "output_type": "stream",
          "name": "stdout",
          "text": [
            "Mon Nov 22 04:14:42 2021       \n",
            "+-----------------------------------------------------------------------------+\n",
            "| NVIDIA-SMI 495.44       Driver Version: 460.32.03    CUDA Version: 11.2     |\n",
            "|-------------------------------+----------------------+----------------------+\n",
            "| GPU  Name        Persistence-M| Bus-Id        Disp.A | Volatile Uncorr. ECC |\n",
            "| Fan  Temp  Perf  Pwr:Usage/Cap|         Memory-Usage | GPU-Util  Compute M. |\n",
            "|                               |                      |               MIG M. |\n",
            "|===============================+======================+======================|\n",
            "|   0  Tesla P100-PCIE...  Off  | 00000000:00:04.0 Off |                    0 |\n",
            "| N/A   42C    P0    27W / 250W |      0MiB / 16280MiB |      0%      Default |\n",
            "|                               |                      |                  N/A |\n",
            "+-------------------------------+----------------------+----------------------+\n",
            "                                                                               \n",
            "+-----------------------------------------------------------------------------+\n",
            "| Processes:                                                                  |\n",
            "|  GPU   GI   CI        PID   Type   Process name                  GPU Memory |\n",
            "|        ID   ID                                                   Usage      |\n",
            "|=============================================================================|\n",
            "|  No running processes found                                                 |\n",
            "+-----------------------------------------------------------------------------+\n"
          ]
        }
      ]
    },
    {
      "cell_type": "code",
      "metadata": {
        "colab": {
          "base_uri": "https://localhost:8080/"
        },
        "id": "wb1f6CGU1Kfc",
        "outputId": "c3bf434f-d9b8-4413-967f-466c8680aeea"
      },
      "source": [
        "# Checking if GPU is available\n",
        "from tensorflow.python.client import device_lib\n",
        "print(device_lib.list_local_devices())"
      ],
      "execution_count": 5,
      "outputs": [
        {
          "output_type": "stream",
          "name": "stdout",
          "text": [
            "[name: \"/device:CPU:0\"\n",
            "device_type: \"CPU\"\n",
            "memory_limit: 268435456\n",
            "locality {\n",
            "}\n",
            "incarnation: 13074390785963183904\n",
            "xla_global_id: -1\n",
            ", name: \"/device:GPU:0\"\n",
            "device_type: \"GPU\"\n",
            "memory_limit: 16154099712\n",
            "locality {\n",
            "  bus_id: 1\n",
            "  links {\n",
            "  }\n",
            "}\n",
            "incarnation: 16046102542571163035\n",
            "physical_device_desc: \"device: 0, name: Tesla P100-PCIE-16GB, pci bus id: 0000:00:04.0, compute capability: 6.0\"\n",
            "xla_global_id: 416903419\n",
            "]\n"
          ]
        }
      ]
    },
    {
      "cell_type": "code",
      "metadata": {
        "colab": {
          "base_uri": "https://localhost:8080/"
        },
        "id": "4r7j_v4I1LzT",
        "outputId": "c7a7eb49-b604-433b-c25a-8a4d83416b9f"
      },
      "source": [
        "# Import Dataset\n",
        "(x_train, y_train), (x_test, y_test) = tf.keras.datasets.fashion_mnist.load_data()\n",
        "classes = ['T-shirt/top', 'Trouser', 'Pullover', 'Dress', \"Coat\", \"Sandle\", 'Shirt', 'Sneaker', 'Bag', 'Ankle Boots']\n",
        "print('Dataset Loaded')"
      ],
      "execution_count": 6,
      "outputs": [
        {
          "output_type": "stream",
          "name": "stdout",
          "text": [
            "Dataset Loaded\n"
          ]
        }
      ]
    },
    {
      "cell_type": "code",
      "metadata": {
        "colab": {
          "base_uri": "https://localhost:8080/"
        },
        "id": "TWBrh7L21Tad",
        "outputId": "1fa571ab-ab09-47cd-eec3-10df46c6b02a"
      },
      "source": [
        "# Shape of Training and Testing Sets\n",
        "print(\"X_train:\", x_train.shape, \"y_train:\", y_train.shape)\n",
        "print(\"X_test:\", x_test.shape, \"y_test:\", y_test.shape)"
      ],
      "execution_count": 7,
      "outputs": [
        {
          "output_type": "stream",
          "name": "stdout",
          "text": [
            "X_train: (60000, 28, 28) y_train: (60000,)\n",
            "X_test: (10000, 28, 28) y_test: (10000,)\n"
          ]
        }
      ]
    },
    {
      "cell_type": "code",
      "metadata": {
        "id": "T-yDu0cv1mYV"
      },
      "source": [
        "# Import Keras Functions\n",
        "from tensorflow.keras import Input\n",
        "from tensorflow.keras.models import Sequential, Model\n",
        "from tensorflow.keras.layers import *\n",
        "from tensorflow.keras.optimizers import *\n",
        "from tensorflow.keras.callbacks import *\n",
        "from tensorflow.keras.utils import plot_model\n",
        "from tensorflow.nn import local_response_normalization\n",
        "from tensorflow.keras.preprocessing.image import ImageDataGenerator\n",
        "from tensorflow.keras.utils import to_categorical"
      ],
      "execution_count": 8,
      "outputs": []
    },
    {
      "cell_type": "code",
      "metadata": {
        "colab": {
          "base_uri": "https://localhost:8080/"
        },
        "id": "ZmV4uiv71nAl",
        "outputId": "ca4c2d49-9afb-4b43-e0ed-3b6479a58fae"
      },
      "source": [
        "def preprocessing_func(x, y):\n",
        "    # preprocess X\n",
        "    x = x.reshape((-1, 28, 28, 1))\n",
        "    x = tf.cast(x, tf.float32)\n",
        "    x = tf.image.grayscale_to_rgb(x)\n",
        "    x = Rescaling(1./127.5, offset=-1)(x)\n",
        "\n",
        "    return x, y\n",
        "\n",
        "# transform \n",
        "x_train, y_train = preprocessing_func(x_train, y_train)\n",
        "x_test, y_test = preprocessing_func(x_test, y_test)\n",
        "\n",
        "print(\"Training Shape:\", x_train.shape, y_train.shape)\n",
        "print(\"Testing Shape:\", x_test.shape, y_test.shape)\n"
      ],
      "execution_count": 9,
      "outputs": [
        {
          "output_type": "stream",
          "name": "stdout",
          "text": [
            "Training Shape: (60000, 28, 28, 3) (60000,)\n",
            "Testing Shape: (10000, 28, 28, 3) (10000,)\n"
          ]
        }
      ]
    },
    {
      "cell_type": "code",
      "metadata": {
        "colab": {
          "base_uri": "https://localhost:8080/",
          "height": 433
        },
        "id": "PdSUwuFl1eWY",
        "outputId": "6a1ae0bf-6977-4969-ddc2-b77f540c4f03"
      },
      "source": [
        "## source code: https://github.com/yu4u/mixup-generator/blob/master/random_eraser.py\n",
        "def get_random_eraser(p=0.5, s_l=0.02, s_h=0.4, r_1=0.3, r_2=1/0.3, v_l=0, v_h=255):\n",
        "    def eraser(input_img):\n",
        "        img_h, img_w, _ = input_img.shape\n",
        "        p_1 = np.random.rand()\n",
        "\n",
        "        if p_1 > p:\n",
        "            return input_img\n",
        "\n",
        "        while True:\n",
        "            s = np.random.uniform(s_l, s_h) * img_h * img_w\n",
        "            r = np.random.uniform(r_1, r_2)\n",
        "            w = int(np.sqrt(s / r))\n",
        "            h = int(np.sqrt(s * r))\n",
        "            left = np.random.randint(0, img_w)\n",
        "            top = np.random.randint(0, img_h)\n",
        "\n",
        "            if left + w <= img_w and top + h <= img_h:\n",
        "                break\n",
        "\n",
        "        c = np.random.uniform(v_l, v_h)\n",
        "        input_img[top:top + h, left:left + w, :] = c\n",
        "\n",
        "        return input_img\n",
        "\n",
        "    return eraser\n",
        "\n",
        "# prepare image data generator for augmentation\n",
        "train_datagen = ImageDataGenerator(\n",
        "    width_shift_range=0.1,\n",
        "    height_shift_range=0.1,\n",
        "    horizontal_flip=True,\n",
        "    preprocessing_function=get_random_eraser(v_l=-1, v_h=1),\n",
        "    validation_split=0.1,\n",
        ")\n",
        "\n",
        "# display images from\n",
        "example_ds = train_datagen.flow(x=x_train, y=y_train)\n",
        "fig = plt.figure()\n",
        "for i in range(15):\n",
        "    img, label = example_ds.next()\n",
        "    ax = fig.add_subplot(3, 5, i+1)\n",
        "    ax.imshow((img[0] + 1) / 2)\n",
        "    ax.set_title(f\"{label[0]}: {classes[label[0]]}\")\n",
        "    ax.axis('off')\n",
        "plt.show()"
      ],
      "execution_count": 10,
      "outputs": [
        {
          "output_type": "display_data",
          "data": {
            "image/png": "[encoded data removed]",
            "text/plain": [
              "<Figure size 864x432 with 15 Axes>"
            ]
          },
          "metadata": {}
        }
      ]
    },
    {
      "cell_type": "code",
      "metadata": {
        "id": "X0da_5BI1kW8"
      },
      "source": [
        "# VGG16 Block\n",
        "def vgg16_module(neurons: int, conv_num:int, num:int, dropout=0):\n",
        "    '''\n",
        "    Creates a generic Hidden Conv2D Layer with ReLU Activations\n",
        "    Including Batch Normalization and Max Pooling Layers\n",
        "    \n",
        "    Args:\n",
        "        - neurons: number of neurons in the dense layer\n",
        "        - conv_num: number of conv layer\n",
        "        - num    : block number\n",
        "        - dropout: amount of dropout regularization to be applied\n",
        "    '''\n",
        "    block = Sequential(name=f'Covolution_Block_{num}')\n",
        "\n",
        "    for i in range(conv_num):\n",
        "      block.add(Conv2D(neurons, kernel_size=(3, 3),\n",
        "                  activation='relu', strides=1, padding='same', kernel_initializer='he_normal'))\n",
        "      block.add(BatchNormalization())\n",
        "\n",
        "    block.add(MaxPooling2D(pool_size=(2, 2), strides=2, padding=\"same\"))\n",
        "    block.add(SpatialDropout2D(dropout, data_format='channels_last'))\n",
        "    \n",
        "    return block"
      ],
      "execution_count": 11,
      "outputs": []
    },
    {
      "cell_type": "code",
      "metadata": {
        "id": "UpB_37Wt1zbF"
      },
      "source": [
        "def vgg16_builder(input_shape=(28, 28, 3)):\n",
        "    model = Sequential(name='Custom_VGG16')\n",
        "    \n",
        "    # Input and Feature Engineering\n",
        "    model.add(Input(input_shape, name='Input_Layer'))\n",
        "\n",
        "    # Convolutional Block - Feature Extraction\n",
        "    model.add(vgg16_module(64, 2, 0, 0))\n",
        "    model.add(vgg16_module(128, 2, 1, 0))\n",
        "    model.add(vgg16_module(256, 3, 2, 0))\n",
        "    model.add(vgg16_module(512, 3, 3, 0))\n",
        "\n",
        "    # Global Average Pooling - Global average pooling operation for spatial data\n",
        "    model.add(GlobalAveragePooling2D(data_format='channels_last'))\n",
        "\n",
        "    # Output Layer - Softmax Activation\n",
        "    model.add(Dense(10, activation='softmax', name='Softmax_Output_Layer'))\n",
        "    \n",
        "    return model"
      ],
      "execution_count": 12,
      "outputs": []
    },
    {
      "cell_type": "code",
      "metadata": {
        "colab": {
          "base_uri": "https://localhost:8080/",
          "height": 527
        },
        "id": "jA1Dzxjk11Ol",
        "outputId": "94bbe7d4-1c81-4aec-805e-979ec832c7cc"
      },
      "source": [
        "# Initialise Weights and Biases run\n",
        "current_time = datetime.datetime.now(sg).strftime(\"%d:%m:%Y_%H:%M\")\n",
        "run = wandb.init(\n",
        "    project=\"Fashion MNIST ConvNet\",\n",
        "    name=f\"Modified VGG16 {[current_time]}\",\n",
        "    config={\n",
        "        \"learning_rate\": 0.001,\n",
        "        \"epochs\": 100,\n",
        "        \"batch_size\": 512,\n",
        "        \"loss_function\": \"sparse_categorical_crossentropy\",\n",
        "        \"architecture\": \"Modified VGG16\",\n",
        "        \"dataset\": \"Fashion MNIST\"\n",
        "    },\n",
        "    group=\"Modified VGG16\"\n",
        ")\n",
        "\n",
        "# Prepare Configurations\n",
        "config = wandb.config\n",
        "\n",
        "# Build the Network\n",
        "tf.keras.backend.clear_session() # Resets all state generated by Keras\n",
        "vgg = vgg16_builder()\n",
        "vgg.summary()\n",
        "\n",
        "# Preparing Optimizer\n",
        "optimizer = Adam(learning_rate=config.learning_rate)\n",
        "\n",
        "# Compiling - Adam Optimizer Categorical Cross Entropy Loss Function\n",
        "vgg.compile(\n",
        "    optimizer=optimizer, \n",
        "    loss=config.loss_function, \n",
        "    metrics=['accuracy']\n",
        ")"
      ],
      "execution_count": 13,
      "outputs": [
        {
          "output_type": "display_data",
          "data": {
            "text/html": [
              "\n",
              "                    Syncing run <strong><a href=\"https://wandb.ai/tyh71/Fashion%20MNIST%20ConvNet/runs/24kj6oh0\" target=\"_blank\">Modified VGG16 ['22:11:2021_12:14']</a></strong> to <a href=\"https://wandb.ai/tyh71/Fashion%20MNIST%20ConvNet\" target=\"_blank\">Weights & Biases</a> (<a href=\"https://docs.wandb.com/integrations/jupyter.html\" target=\"_blank\">docs</a>).<br/>\n",
              "\n",
              "                "
            ],
            "text/plain": [
              "<IPython.core.display.HTML object>"
            ]
          },
          "metadata": {}
        },
        {
          "output_type": "stream",
          "name": "stdout",
          "text": [
            "Model: \"Custom_VGG16\"\n",
            "_________________________________________________________________\n",
            " Layer (type)                Output Shape              Param #   \n",
            "=================================================================\n",
            " Covolution_Block_0 (Sequent  (None, 14, 14, 64)       39232     \n",
            " ial)                                                            \n",
            "                                                                 \n",
            " Covolution_Block_1 (Sequent  (None, 7, 7, 128)        222464    \n",
            " ial)                                                            \n",
            "                                                                 \n",
            " Covolution_Block_2 (Sequent  (None, 4, 4, 256)        1478400   \n",
            " ial)                                                            \n",
            "                                                                 \n",
            " Covolution_Block_3 (Sequent  (None, 2, 2, 512)        5905920   \n",
            " ial)                                                            \n",
            "                                                                 \n",
            " global_average_pooling2d (G  (None, 512)              0         \n",
            " lobalAveragePooling2D)                                          \n",
            "                                                                 \n",
            " Softmax_Output_Layer (Dense  (None, 10)               5130      \n",
            " )                                                               \n",
            "                                                                 \n",
            "=================================================================\n",
            "Total params: 7,651,146\n",
            "Trainable params: 7,645,770\n",
            "Non-trainable params: 5,376\n",
            "_________________________________________________________________\n"
          ]
        }
      ]
    },
    {
      "cell_type": "code",
      "metadata": {
        "id": "k7M7xMpC13Fr"
      },
      "source": [
        "# Final Set of callback functions\n",
        "callbacks = [\n",
        "    WandbCallback(save_model=True),\n",
        "    ReduceLROnPlateau(monitor='val_loss', factor=np.sqrt(0.1), cooldown=0, patience=5, min_lr=0.5e-6, verbose=1),\n",
        "]"
      ],
      "execution_count": 14,
      "outputs": []
    },
    {
      "cell_type": "code",
      "metadata": {
        "colab": {
          "base_uri": "https://localhost:8080/",
          "height": 1000,
          "referenced_widgets": [
            "8b51d3f88c2d41e0a1a00bfac35f57dc",
            "62d52dedb83a4f44a19a35b5118338ff",
            "f0d46c5a01174b62a34600bb110ac883",
            "ff0722571073412687f1fb791cd59fcf",
            "67c4c72972f04bdb9d4551c720de8d5d",
            "3ba9ea9e654844a0a6cd95c81439bc5c",
            "f834a9cc71f1443a94f1019f3aea2195",
            "2fd55eec4221409dbb0cd201f6a83a0f"
          ]
        },
        "id": "T6LbQGwB15JL",
        "outputId": "361f7f95-e1a4-4b90-dc59-84be4dfae5ad"
      },
      "source": [
        "%%time\n",
        "# Train Model\n",
        "baseline_hist = vgg.fit(\n",
        "    x=train_datagen.flow(x_train, y_train, subset='training', batch_size=config.batch_size),\n",
        "    validation_data=train_datagen.flow(x_train, y_train, subset='validation', batch_size=config.batch_size),\n",
        "    epochs=config.epochs,\n",
        "    verbose=1,\n",
        "    use_multiprocessing=True,\n",
        "    workers=32,\n",
        "    callbacks=callbacks\n",
        ")\n",
        "run.finish()"
      ],
      "execution_count": 15,
      "outputs": [
        {
          "output_type": "stream",
          "name": "stdout",
          "text": [
            "Epoch 1/100\n",
            " 6/94 [>.............................] - ETA: 7s - loss: 3.0718 - accuracy: 0.3551WARNING:tensorflow:Callback method `on_train_batch_end` is slow compared to the batch time (batch time: 0.0333s vs `on_train_batch_end` time: 0.0444s). Check your callbacks.\n",
            "94/94 [==============================] - 23s 184ms/step - loss: 0.8405 - accuracy: 0.7172 - val_loss: 1.1470 - val_accuracy: 0.6575 - lr: 0.0010\n",
            "Epoch 2/100\n",
            "94/94 [==============================] - 17s 157ms/step - loss: 0.4649 - accuracy: 0.8240 - val_loss: 0.5967 - val_accuracy: 0.7835 - lr: 0.0010\n",
            "Epoch 3/100\n",
            "94/94 [==============================] - 17s 158ms/step - loss: 0.3964 - accuracy: 0.8510 - val_loss: 0.4226 - val_accuracy: 0.8480 - lr: 0.0010\n",
            "Epoch 4/100\n",
            "94/94 [==============================] - 16s 148ms/step - loss: 0.3572 - accuracy: 0.8642 - val_loss: 0.4921 - val_accuracy: 0.8263 - lr: 0.0010\n",
            "Epoch 5/100\n",
            "94/94 [==============================] - 18s 163ms/step - loss: 0.3281 - accuracy: 0.8769 - val_loss: 0.4407 - val_accuracy: 0.8443 - lr: 0.0010\n",
            "Epoch 6/100\n",
            "94/94 [==============================] - 17s 155ms/step - loss: 0.3048 - accuracy: 0.8845 - val_loss: 0.3460 - val_accuracy: 0.8724 - lr: 0.0010\n",
            "Epoch 7/100\n",
            "94/94 [==============================] - 17s 151ms/step - loss: 0.2904 - accuracy: 0.8912 - val_loss: 0.3652 - val_accuracy: 0.8668 - lr: 0.0010\n",
            "Epoch 8/100\n",
            "94/94 [==============================] - 19s 169ms/step - loss: 0.2809 - accuracy: 0.8945 - val_loss: 0.3340 - val_accuracy: 0.8809 - lr: 0.0010\n",
            "Epoch 9/100\n",
            "94/94 [==============================] - 17s 155ms/step - loss: 0.2664 - accuracy: 0.9002 - val_loss: 0.3044 - val_accuracy: 0.8898 - lr: 0.0010\n",
            "Epoch 10/100\n",
            "94/94 [==============================] - 16s 150ms/step - loss: 0.2655 - accuracy: 0.9007 - val_loss: 0.3100 - val_accuracy: 0.8942 - lr: 0.0010\n",
            "Epoch 11/100\n",
            "94/94 [==============================] - 17s 156ms/step - loss: 0.2449 - accuracy: 0.9092 - val_loss: 0.3563 - val_accuracy: 0.8689 - lr: 0.0010\n",
            "Epoch 12/100\n",
            "94/94 [==============================] - 17s 156ms/step - loss: 0.2396 - accuracy: 0.9106 - val_loss: 0.2844 - val_accuracy: 0.8943 - lr: 0.0010\n",
            "Epoch 13/100\n",
            "94/94 [==============================] - 16s 149ms/step - loss: 0.2370 - accuracy: 0.9113 - val_loss: 0.3120 - val_accuracy: 0.8878 - lr: 0.0010\n",
            "Epoch 14/100\n",
            "94/94 [==============================] - 17s 155ms/step - loss: 0.2258 - accuracy: 0.9162 - val_loss: 0.2813 - val_accuracy: 0.8983 - lr: 0.0010\n",
            "Epoch 15/100\n",
            "94/94 [==============================] - 17s 158ms/step - loss: 0.2199 - accuracy: 0.9172 - val_loss: 0.2584 - val_accuracy: 0.9031 - lr: 0.0010\n",
            "Epoch 16/100\n",
            "94/94 [==============================] - 17s 153ms/step - loss: 0.2225 - accuracy: 0.9168 - val_loss: 0.2704 - val_accuracy: 0.9045 - lr: 0.0010\n",
            "Epoch 17/100\n",
            "94/94 [==============================] - 17s 152ms/step - loss: 0.2139 - accuracy: 0.9196 - val_loss: 0.2703 - val_accuracy: 0.9032 - lr: 0.0010\n",
            "Epoch 18/100\n",
            "94/94 [==============================] - 18s 166ms/step - loss: 0.2075 - accuracy: 0.9218 - val_loss: 0.2448 - val_accuracy: 0.9095 - lr: 0.0010\n",
            "Epoch 19/100\n",
            "94/94 [==============================] - 17s 154ms/step - loss: 0.2049 - accuracy: 0.9229 - val_loss: 0.2678 - val_accuracy: 0.9045 - lr: 0.0010\n",
            "Epoch 20/100\n",
            "94/94 [==============================] - 17s 154ms/step - loss: 0.1983 - accuracy: 0.9259 - val_loss: 0.2497 - val_accuracy: 0.9086 - lr: 0.0010\n",
            "Epoch 21/100\n",
            "94/94 [==============================] - 17s 154ms/step - loss: 0.1920 - accuracy: 0.9276 - val_loss: 0.2549 - val_accuracy: 0.9112 - lr: 0.0010\n",
            "Epoch 22/100\n",
            "94/94 [==============================] - 17s 157ms/step - loss: 0.1871 - accuracy: 0.9300 - val_loss: 0.2320 - val_accuracy: 0.9193 - lr: 0.0010\n",
            "Epoch 23/100\n",
            "94/94 [==============================] - 18s 164ms/step - loss: 0.1850 - accuracy: 0.9327 - val_loss: 0.2709 - val_accuracy: 0.9062 - lr: 0.0010\n",
            "Epoch 24/100\n",
            "94/94 [==============================] - 16s 150ms/step - loss: 0.1791 - accuracy: 0.9342 - val_loss: 0.2461 - val_accuracy: 0.9124 - lr: 0.0010\n",
            "Epoch 25/100\n",
            "94/94 [==============================] - 16s 153ms/step - loss: 0.1766 - accuracy: 0.9341 - val_loss: 0.2614 - val_accuracy: 0.9064 - lr: 0.0010\n",
            "Epoch 26/100\n",
            "94/94 [==============================] - 17s 155ms/step - loss: 0.1702 - accuracy: 0.9359 - val_loss: 0.2309 - val_accuracy: 0.9174 - lr: 0.0010\n",
            "Epoch 27/100\n",
            "94/94 [==============================] - 16s 150ms/step - loss: 0.1706 - accuracy: 0.9366 - val_loss: 0.2394 - val_accuracy: 0.9118 - lr: 0.0010\n",
            "Epoch 28/100\n",
            "94/94 [==============================] - 16s 150ms/step - loss: 0.1712 - accuracy: 0.9364 - val_loss: 0.2310 - val_accuracy: 0.9203 - lr: 0.0010\n",
            "Epoch 29/100\n",
            "94/94 [==============================] - 18s 172ms/step - loss: 0.1661 - accuracy: 0.9373 - val_loss: 0.2121 - val_accuracy: 0.9232 - lr: 0.0010\n",
            "Epoch 30/100\n",
            "94/94 [==============================] - 16s 149ms/step - loss: 0.1588 - accuracy: 0.9403 - val_loss: 0.2247 - val_accuracy: 0.9170 - lr: 0.0010\n",
            "Epoch 31/100\n",
            "94/94 [==============================] - 17s 150ms/step - loss: 0.1566 - accuracy: 0.9409 - val_loss: 0.2422 - val_accuracy: 0.9135 - lr: 0.0010\n",
            "Epoch 32/100\n",
            "94/94 [==============================] - 17s 150ms/step - loss: 0.1589 - accuracy: 0.9401 - val_loss: 0.2240 - val_accuracy: 0.9205 - lr: 0.0010\n",
            "Epoch 33/100\n",
            "94/94 [==============================] - 17s 154ms/step - loss: 0.1559 - accuracy: 0.9415 - val_loss: 0.2210 - val_accuracy: 0.9201 - lr: 0.0010\n",
            "Epoch 34/100\n",
            "94/94 [==============================] - ETA: 0s - loss: 0.1490 - accuracy: 0.9452\n",
            "Epoch 00034: ReduceLROnPlateau reducing learning rate to 0.00031622778103685084.\n",
            "94/94 [==============================] - 16s 149ms/step - loss: 0.1490 - accuracy: 0.9452 - val_loss: 0.2417 - val_accuracy: 0.9134 - lr: 0.0010\n",
            "Epoch 35/100\n",
            "94/94 [==============================] - 17s 158ms/step - loss: 0.1276 - accuracy: 0.9514 - val_loss: 0.1849 - val_accuracy: 0.9351 - lr: 3.1623e-04\n",
            "Epoch 36/100\n",
            "94/94 [==============================] - 16s 148ms/step - loss: 0.1136 - accuracy: 0.9578 - val_loss: 0.1861 - val_accuracy: 0.9350 - lr: 3.1623e-04\n",
            "Epoch 37/100\n",
            "94/94 [==============================] - 17s 151ms/step - loss: 0.1121 - accuracy: 0.9591 - val_loss: 0.2012 - val_accuracy: 0.9298 - lr: 3.1623e-04\n",
            "Epoch 38/100\n",
            "94/94 [==============================] - 17s 148ms/step - loss: 0.1074 - accuracy: 0.9608 - val_loss: 0.1929 - val_accuracy: 0.9330 - lr: 3.1623e-04\n",
            "Epoch 39/100\n",
            "94/94 [==============================] - 16s 151ms/step - loss: 0.1004 - accuracy: 0.9624 - val_loss: 0.1940 - val_accuracy: 0.9337 - lr: 3.1623e-04\n",
            "Epoch 40/100\n",
            "94/94 [==============================] - ETA: 0s - loss: 0.1020 - accuracy: 0.9614\n",
            "Epoch 00040: ReduceLROnPlateau reducing learning rate to 0.00010000000639606199.\n",
            "94/94 [==============================] - 17s 149ms/step - loss: 0.1020 - accuracy: 0.9614 - val_loss: 0.1998 - val_accuracy: 0.9293 - lr: 3.1623e-04\n",
            "Epoch 41/100\n",
            "94/94 [==============================] - 17s 149ms/step - loss: 0.0952 - accuracy: 0.9647 - val_loss: 0.1873 - val_accuracy: 0.9379 - lr: 1.0000e-04\n",
            "Epoch 42/100\n",
            "94/94 [==============================] - 16s 155ms/step - loss: 0.0912 - accuracy: 0.9658 - val_loss: 0.1799 - val_accuracy: 0.9402 - lr: 1.0000e-04\n",
            "Epoch 43/100\n",
            "94/94 [==============================] - 16s 150ms/step - loss: 0.0876 - accuracy: 0.9674 - val_loss: 0.1907 - val_accuracy: 0.9388 - lr: 1.0000e-04\n",
            "Epoch 44/100\n",
            "94/94 [==============================] - 16s 148ms/step - loss: 0.0852 - accuracy: 0.9690 - val_loss: 0.1911 - val_accuracy: 0.9400 - lr: 1.0000e-04\n",
            "Epoch 45/100\n",
            "94/94 [==============================] - 16s 151ms/step - loss: 0.0841 - accuracy: 0.9697 - val_loss: 0.1900 - val_accuracy: 0.9382 - lr: 1.0000e-04\n",
            "Epoch 46/100\n",
            "94/94 [==============================] - 16s 148ms/step - loss: 0.0832 - accuracy: 0.9691 - val_loss: 0.1952 - val_accuracy: 0.9373 - lr: 1.0000e-04\n",
            "Epoch 47/100\n",
            "94/94 [==============================] - ETA: 0s - loss: 0.0833 - accuracy: 0.9696\n",
            "Epoch 00047: ReduceLROnPlateau reducing learning rate to 3.1622778103685084e-05.\n",
            "94/94 [==============================] - 16s 148ms/step - loss: 0.0833 - accuracy: 0.9696 - val_loss: 0.1872 - val_accuracy: 0.9407 - lr: 1.0000e-04\n",
            "Epoch 48/100\n",
            "94/94 [==============================] - 16s 148ms/step - loss: 0.0786 - accuracy: 0.9717 - val_loss: 0.1926 - val_accuracy: 0.9393 - lr: 3.1623e-05\n",
            "Epoch 49/100\n",
            "94/94 [==============================] - 17s 150ms/step - loss: 0.0766 - accuracy: 0.9716 - val_loss: 0.1995 - val_accuracy: 0.9367 - lr: 3.1623e-05\n",
            "Epoch 50/100\n",
            "94/94 [==============================] - 16s 151ms/step - loss: 0.0787 - accuracy: 0.9716 - val_loss: 0.1911 - val_accuracy: 0.9381 - lr: 3.1623e-05\n",
            "Epoch 51/100\n",
            "94/94 [==============================] - 17s 149ms/step - loss: 0.0748 - accuracy: 0.9727 - val_loss: 0.1898 - val_accuracy: 0.9398 - lr: 3.1623e-05\n",
            "Epoch 52/100\n",
            "94/94 [==============================] - ETA: 0s - loss: 0.0731 - accuracy: 0.9729\n",
            "Epoch 00052: ReduceLROnPlateau reducing learning rate to 1.0000000409520217e-05.\n",
            "94/94 [==============================] - 16s 148ms/step - loss: 0.0731 - accuracy: 0.9729 - val_loss: 0.1946 - val_accuracy: 0.9399 - lr: 3.1623e-05\n",
            "Epoch 53/100\n",
            "94/94 [==============================] - 18s 165ms/step - loss: 0.0736 - accuracy: 0.9730 - val_loss: 0.1925 - val_accuracy: 0.9378 - lr: 1.0000e-05\n",
            "Epoch 54/100\n",
            "94/94 [==============================] - 17s 152ms/step - loss: 0.0700 - accuracy: 0.9740 - val_loss: 0.1861 - val_accuracy: 0.9407 - lr: 1.0000e-05\n",
            "Epoch 55/100\n",
            "94/94 [==============================] - 16s 152ms/step - loss: 0.0685 - accuracy: 0.9740 - val_loss: 0.1928 - val_accuracy: 0.9391 - lr: 1.0000e-05\n",
            "Epoch 56/100\n",
            "94/94 [==============================] - 18s 165ms/step - loss: 0.0679 - accuracy: 0.9756 - val_loss: 0.1975 - val_accuracy: 0.9409 - lr: 1.0000e-05\n",
            "Epoch 57/100\n",
            "94/94 [==============================] - ETA: 0s - loss: 0.0741 - accuracy: 0.9730\n",
            "Epoch 00057: ReduceLROnPlateau reducing learning rate to 3.1622778678900043e-06.\n",
            "94/94 [==============================] - 17s 149ms/step - loss: 0.0741 - accuracy: 0.9730 - val_loss: 0.1989 - val_accuracy: 0.9398 - lr: 1.0000e-05\n",
            "Epoch 58/100\n",
            "94/94 [==============================] - 17s 150ms/step - loss: 0.0701 - accuracy: 0.9749 - val_loss: 0.1988 - val_accuracy: 0.9393 - lr: 3.1623e-06\n",
            "Epoch 59/100\n",
            "94/94 [==============================] - 17s 149ms/step - loss: 0.0701 - accuracy: 0.9749 - val_loss: 0.1943 - val_accuracy: 0.9385 - lr: 3.1623e-06\n",
            "Epoch 60/100\n",
            "94/94 [==============================] - 16s 149ms/step - loss: 0.0714 - accuracy: 0.9747 - val_loss: 0.2043 - val_accuracy: 0.9384 - lr: 3.1623e-06\n",
            "Epoch 61/100\n",
            "94/94 [==============================] - 16s 149ms/step - loss: 0.0711 - accuracy: 0.9740 - val_loss: 0.1952 - val_accuracy: 0.9417 - lr: 3.1623e-06\n",
            "Epoch 62/100\n",
            "94/94 [==============================] - ETA: 0s - loss: 0.0686 - accuracy: 0.9748\n",
            "Epoch 00062: ReduceLROnPlateau reducing learning rate to 1.0000000553323957e-06.\n",
            "94/94 [==============================] - 17s 151ms/step - loss: 0.0686 - accuracy: 0.9748 - val_loss: 0.1969 - val_accuracy: 0.9398 - lr: 3.1623e-06\n",
            "Epoch 63/100\n",
            "94/94 [==============================] - 17s 150ms/step - loss: 0.0702 - accuracy: 0.9744 - val_loss: 0.1953 - val_accuracy: 0.9398 - lr: 1.0000e-06\n",
            "Epoch 64/100\n",
            "94/94 [==============================] - 16s 147ms/step - loss: 0.0719 - accuracy: 0.9737 - val_loss: 0.1962 - val_accuracy: 0.9402 - lr: 1.0000e-06\n",
            "Epoch 65/100\n",
            "94/94 [==============================] - 17s 148ms/step - loss: 0.0701 - accuracy: 0.9739 - val_loss: 0.1981 - val_accuracy: 0.9394 - lr: 1.0000e-06\n",
            "Epoch 66/100\n",
            "94/94 [==============================] - 16s 148ms/step - loss: 0.0706 - accuracy: 0.9738 - val_loss: 0.1965 - val_accuracy: 0.9409 - lr: 1.0000e-06\n",
            "Epoch 67/100\n",
            "94/94 [==============================] - ETA: 0s - loss: 0.0701 - accuracy: 0.9738\n",
            "Epoch 00067: ReduceLROnPlateau reducing learning rate to 5e-07.\n",
            "94/94 [==============================] - 18s 166ms/step - loss: 0.0701 - accuracy: 0.9738 - val_loss: 0.1972 - val_accuracy: 0.9402 - lr: 1.0000e-06\n",
            "Epoch 68/100\n",
            "94/94 [==============================] - 16s 157ms/step - loss: 0.0753 - accuracy: 0.9716 - val_loss: 0.1955 - val_accuracy: 0.9416 - lr: 5.0000e-07\n",
            "Epoch 69/100\n",
            "94/94 [==============================] - 17s 149ms/step - loss: 0.0698 - accuracy: 0.9743 - val_loss: 0.2059 - val_accuracy: 0.9362 - lr: 5.0000e-07\n",
            "Epoch 70/100\n",
            "94/94 [==============================] - 16s 150ms/step - loss: 0.0702 - accuracy: 0.9741 - val_loss: 0.1926 - val_accuracy: 0.9421 - lr: 5.0000e-07\n",
            "Epoch 71/100\n",
            "94/94 [==============================] - 17s 150ms/step - loss: 0.0718 - accuracy: 0.9737 - val_loss: 0.2006 - val_accuracy: 0.9400 - lr: 5.0000e-07\n",
            "Epoch 72/100\n",
            "94/94 [==============================] - 17s 151ms/step - loss: 0.0706 - accuracy: 0.9744 - val_loss: 0.1913 - val_accuracy: 0.9417 - lr: 5.0000e-07\n",
            "Epoch 73/100\n",
            "94/94 [==============================] - 18s 166ms/step - loss: 0.0731 - accuracy: 0.9731 - val_loss: 0.1996 - val_accuracy: 0.9392 - lr: 5.0000e-07\n",
            "Epoch 74/100\n",
            "94/94 [==============================] - 16s 154ms/step - loss: 0.0713 - accuracy: 0.9739 - val_loss: 0.1955 - val_accuracy: 0.9398 - lr: 5.0000e-07\n",
            "Epoch 75/100\n",
            "94/94 [==============================] - 17s 152ms/step - loss: 0.0691 - accuracy: 0.9739 - val_loss: 0.2032 - val_accuracy: 0.9377 - lr: 5.0000e-07\n",
            "Epoch 76/100\n",
            "94/94 [==============================] - 16s 149ms/step - loss: 0.0712 - accuracy: 0.9743 - val_loss: 0.2003 - val_accuracy: 0.9411 - lr: 5.0000e-07\n",
            "Epoch 77/100\n",
            "94/94 [==============================] - 17s 150ms/step - loss: 0.0699 - accuracy: 0.9750 - val_loss: 0.1940 - val_accuracy: 0.9395 - lr: 5.0000e-07\n",
            "Epoch 78/100\n",
            "94/94 [==============================] - 17s 150ms/step - loss: 0.0679 - accuracy: 0.9746 - val_loss: 0.1915 - val_accuracy: 0.9408 - lr: 5.0000e-07\n",
            "Epoch 79/100\n",
            "94/94 [==============================] - 17s 150ms/step - loss: 0.0721 - accuracy: 0.9726 - val_loss: 0.1934 - val_accuracy: 0.9405 - lr: 5.0000e-07\n",
            "Epoch 80/100\n",
            "94/94 [==============================] - 17s 150ms/step - loss: 0.0737 - accuracy: 0.9724 - val_loss: 0.2031 - val_accuracy: 0.9397 - lr: 5.0000e-07\n",
            "Epoch 81/100\n",
            "94/94 [==============================] - 19s 168ms/step - loss: 0.0709 - accuracy: 0.9746 - val_loss: 0.1968 - val_accuracy: 0.9393 - lr: 5.0000e-07\n",
            "Epoch 82/100\n",
            "94/94 [==============================] - 16s 152ms/step - loss: 0.0710 - accuracy: 0.9739 - val_loss: 0.1982 - val_accuracy: 0.9391 - lr: 5.0000e-07\n",
            "Epoch 83/100\n",
            "94/94 [==============================] - 18s 165ms/step - loss: 0.0668 - accuracy: 0.9756 - val_loss: 0.2000 - val_accuracy: 0.9413 - lr: 5.0000e-07\n",
            "Epoch 84/100\n",
            "94/94 [==============================] - 16s 150ms/step - loss: 0.0720 - accuracy: 0.9729 - val_loss: 0.2000 - val_accuracy: 0.9409 - lr: 5.0000e-07\n",
            "Epoch 85/100\n",
            "94/94 [==============================] - 17s 149ms/step - loss: 0.0705 - accuracy: 0.9745 - val_loss: 0.1942 - val_accuracy: 0.9402 - lr: 5.0000e-07\n",
            "Epoch 86/100\n",
            "94/94 [==============================] - 17s 149ms/step - loss: 0.0691 - accuracy: 0.9750 - val_loss: 0.1855 - val_accuracy: 0.9432 - lr: 5.0000e-07\n",
            "Epoch 87/100\n",
            "94/94 [==============================] - 17s 152ms/step - loss: 0.0710 - accuracy: 0.9734 - val_loss: 0.1920 - val_accuracy: 0.9390 - lr: 5.0000e-07\n",
            "Epoch 88/100\n",
            "94/94 [==============================] - 17s 150ms/step - loss: 0.0734 - accuracy: 0.9722 - val_loss: 0.1976 - val_accuracy: 0.9396 - lr: 5.0000e-07\n",
            "Epoch 89/100\n",
            "94/94 [==============================] - 17s 151ms/step - loss: 0.0694 - accuracy: 0.9745 - val_loss: 0.2022 - val_accuracy: 0.9397 - lr: 5.0000e-07\n",
            "Epoch 90/100\n",
            "94/94 [==============================] - 17s 150ms/step - loss: 0.0712 - accuracy: 0.9735 - val_loss: 0.1998 - val_accuracy: 0.9391 - lr: 5.0000e-07\n",
            "Epoch 91/100\n",
            "94/94 [==============================] - 18s 166ms/step - loss: 0.0709 - accuracy: 0.9741 - val_loss: 0.2058 - val_accuracy: 0.9376 - lr: 5.0000e-07\n",
            "Epoch 92/100\n",
            "94/94 [==============================] - 22s 204ms/step - loss: 0.0699 - accuracy: 0.9752 - val_loss: 0.1980 - val_accuracy: 0.9386 - lr: 5.0000e-07\n",
            "Epoch 93/100\n",
            "94/94 [==============================] - 18s 165ms/step - loss: 0.0730 - accuracy: 0.9725 - val_loss: 0.2020 - val_accuracy: 0.9391 - lr: 5.0000e-07\n",
            "Epoch 94/100\n",
            "94/94 [==============================] - 16s 152ms/step - loss: 0.0693 - accuracy: 0.9742 - val_loss: 0.1931 - val_accuracy: 0.9417 - lr: 5.0000e-07\n",
            "Epoch 95/100\n",
            "94/94 [==============================] - 17s 153ms/step - loss: 0.0683 - accuracy: 0.9743 - val_loss: 0.1884 - val_accuracy: 0.9426 - lr: 5.0000e-07\n",
            "Epoch 96/100\n",
            "94/94 [==============================] - 17s 153ms/step - loss: 0.0682 - accuracy: 0.9752 - val_loss: 0.2009 - val_accuracy: 0.9407 - lr: 5.0000e-07\n",
            "Epoch 97/100\n",
            "94/94 [==============================] - 17s 151ms/step - loss: 0.0722 - accuracy: 0.9730 - val_loss: 0.2007 - val_accuracy: 0.9368 - lr: 5.0000e-07\n",
            "Epoch 98/100\n",
            "94/94 [==============================] - 17s 150ms/step - loss: 0.0685 - accuracy: 0.9738 - val_loss: 0.2007 - val_accuracy: 0.9392 - lr: 5.0000e-07\n",
            "Epoch 99/100\n",
            "94/94 [==============================] - 17s 152ms/step - loss: 0.0704 - accuracy: 0.9740 - val_loss: 0.1944 - val_accuracy: 0.9398 - lr: 5.0000e-07\n",
            "Epoch 100/100\n",
            "94/94 [==============================] - 17s 158ms/step - loss: 0.0677 - accuracy: 0.9751 - val_loss: 0.2013 - val_accuracy: 0.9368 - lr: 5.0000e-07\n"
          ]
        },
        {
          "output_type": "display_data",
          "data": {
            "text/html": [
              "<br/>Waiting for W&B process to finish, PID 2154... <strong style=\"color:green\">(success).</strong>"
            ],
            "text/plain": [
              "<IPython.core.display.HTML object>"
            ]
          },
          "metadata": {}
        },
        {
          "output_type": "display_data",
          "data": {
            "application/vnd.jupyter.widget-view+json": {
              "model_id": "8b51d3f88c2d41e0a1a00bfac35f57dc",
              "version_minor": 0,
              "version_major": 2
            },
            "text/plain": [
              "VBox(children=(Label(value=' 87.69MB of 87.69MB uploaded (0.00MB deduped)\\r'), FloatProgress(value=1.0, max=1.…"
            ]
          },
          "metadata": {}
        },
        {
          "output_type": "display_data",
          "data": {
            "text/html": [
              "<style>\n",
              "    table.wandb td:nth-child(1) { padding: 0 10px; text-align: right }\n",
              "    .wandb-row { display: flex; flex-direction: row; flex-wrap: wrap; width: 100% }\n",
              "    .wandb-col { display: flex; flex-direction: column; flex-basis: 100%; flex: 1; padding: 10px; }\n",
              "    </style>\n",
              "<div class=\"wandb-row\"><div class=\"wandb-col\">\n",
              "<h3>Run history:</h3><br/><table class=\"wandb\"><tr><td>accuracy</td><td>▁▅▆▆▆▆▆▇▇▇▇▇▇▇██████████████████████████</td></tr><tr><td>epoch</td><td>▁▁▁▁▂▂▂▂▂▃▃▃▃▃▃▄▄▄▄▄▅▅▅▅▅▅▆▆▆▆▆▇▇▇▇▇▇███</td></tr><tr><td>loss</td><td>█▄▃▃▃▃▂▂▂▂▂▂▂▂▁▁▁▁▁▁▁▁▁▁▁▁▁▁▁▁▁▁▁▁▁▁▁▁▁▁</td></tr><tr><td>val_accuracy</td><td>▁▆▆▇▆▇▇▇▇▇▇▇▇▇██████████████████████████</td></tr><tr><td>val_loss</td><td>█▃▂▂▂▂▂▁▂▂▁▁▁▁▁▁▁▁▁▁▁▁▁▁▁▁▁▁▁▁▁▁▁▁▁▁▁▁▁▁</td></tr></table><br/></div><div class=\"wandb-col\">\n",
              "<h3>Run summary:</h3><br/><table class=\"wandb\"><tr><td>accuracy</td><td>0.97506</td></tr><tr><td>best_epoch</td><td>41</td></tr><tr><td>best_val_loss</td><td>0.17986</td></tr><tr><td>epoch</td><td>99</td></tr><tr><td>loss</td><td>0.06772</td></tr><tr><td>val_accuracy</td><td>0.93683</td></tr><tr><td>val_loss</td><td>0.20132</td></tr></table>\n",
              "</div></div>\n",
              "Synced 5 W&B file(s), 1 media file(s), 0 artifact file(s) and 1 other file(s)\n",
              "<br/>Synced <strong style=\"color:#cdcd00\">Modified VGG16 ['22:11:2021_12:14']</strong>: <a href=\"https://wandb.ai/tyh71/Fashion%20MNIST%20ConvNet/runs/24kj6oh0\" target=\"_blank\">https://wandb.ai/tyh71/Fashion%20MNIST%20ConvNet/runs/24kj6oh0</a><br/>\n",
              "Find logs at: <code>./wandb/run-20211122_041445-24kj6oh0/logs</code><br/>\n"
            ],
            "text/plain": [
              "<IPython.core.display.HTML object>"
            ]
          },
          "metadata": {}
        },
        {
          "output_type": "stream",
          "name": "stdout",
          "text": [
            "CPU times: user 9min 37s, sys: 10min 13s, total: 19min 51s\n",
            "Wall time: 29min 6s\n"
          ]
        }
      ]
    },
    {
      "cell_type": "code",
      "metadata": {
        "id": "P0HLR5vZ16IV"
      },
      "source": [
        "# in case of model training being interrupted\n",
        "run.finish()"
      ],
      "execution_count": 16,
      "outputs": []
    },
    {
      "cell_type": "code",
      "metadata": {
        "colab": {
          "base_uri": "https://localhost:8080/",
          "height": 433
        },
        "id": "mhvuwY-X2Ms-",
        "outputId": "f8b4a717-246d-4a3c-9671-36bdbc56f8b0"
      },
      "source": [
        "# Plot Learning Curves\n",
        "fig, (ax1, ax2) = plt.subplots(1, 2, figsize=(12, 6), tight_layout=True)\n",
        "\n",
        "ax1.plot(baseline_hist.history['loss'], label='Training Loss')\n",
        "ax1.plot(baseline_hist.history['val_loss'], label='Validation Loss')\n",
        "ax1.set_title('Training and Validation Loss')\n",
        "ax1.set_xlabel('Epochs')\n",
        "ax1.set_ylabel('Loss')\n",
        "# ax1.set_ylim(bottom=0.0, top=1.0)\n",
        "ax1.legend()\n",
        "\n",
        "ax2.plot(baseline_hist.history['accuracy'], label='Training Accuracy')\n",
        "ax2.plot(baseline_hist.history['val_accuracy'], label='Validation Accuracy')\n",
        "ax2.set_title('Training and Validation Accuracy')\n",
        "ax2.set_xlabel('Epochs')\n",
        "ax2.set_ylabel('Accuracy')\n",
        "# ax2.set_ylim(top=1.0, bottom=0.8)\n",
        "ax2.legend()\n",
        "\n",
        "plt.show()"
      ],
      "execution_count": 17,
      "outputs": [
        {
          "output_type": "display_data",
          "data": {
            "image/png": "[encoded data removed]",
            "text/plain": [
              "<Figure size 864x432 with 2 Axes>"
            ]
          },
          "metadata": {}
        }
      ]
    },
    {
      "cell_type": "code",
      "metadata": {
        "colab": {
          "base_uri": "https://localhost:8080/",
          "height": 117
        },
        "id": "nEQM7OFU2OZ-",
        "outputId": "d673d709-bb72-4761-ef9a-5e07d2f672e5"
      },
      "source": [
        "# Evaluating Training and Testing Set\n",
        "train = vgg.evaluate(x_train, y_train)\n",
        "test  = vgg.evaluate(x_test, y_test)\n",
        "\n",
        "# Creating a Logger to store all Evaluation Results\n",
        "logger = pd.DataFrame(columns=['Train Loss', 'Train Acc', 'Test Loss', 'Test Acc'])\n",
        "logger = logger.append(\n",
        "    pd.Series(\n",
        "        {\n",
        "            'Train Loss': train[0],\n",
        "            'Train Acc' : train[1],\n",
        "            'Test Loss' : test[0],\n",
        "            'Test Acc'  : test[1],\n",
        "            'Test Percentage Error': \"{:.2%}\".format(1.0 - test[1])\n",
        "        },\n",
        "        name='Modified VGG16 w/ Image Augmentation',))\n",
        "logger"
      ],
      "execution_count": 18,
      "outputs": [
        {
          "output_type": "stream",
          "name": "stdout",
          "text": [
            "1875/1875 [==============================] - 10s 5ms/step - loss: 0.0662 - accuracy: 0.9791\n",
            "313/313 [==============================] - 2s 6ms/step - loss: 0.2028 - accuracy: 0.9439\n"
          ]
        },
        {
          "output_type": "execute_result",
          "data": {
            "text/html": [
              "<div>\n",
              "<style scoped>\n",
              "    .dataframe tbody tr th:only-of-type {\n",
              "        vertical-align: middle;\n",
              "    }\n",
              "\n",
              "    .dataframe tbody tr th {\n",
              "        vertical-align: top;\n",
              "    }\n",
              "\n",
              "    .dataframe thead th {\n",
              "        text-align: right;\n",
              "    }\n",
              "</style>\n",
              "<table border=\"1\" class=\"dataframe\">\n",
              "  <thead>\n",
              "    <tr style=\"text-align: right;\">\n",
              "      <th></th>\n",
              "      <th>Train Loss</th>\n",
              "      <th>Train Acc</th>\n",
              "      <th>Test Loss</th>\n",
              "      <th>Test Acc</th>\n",
              "      <th>Test Percentage Error</th>\n",
              "    </tr>\n",
              "  </thead>\n",
              "  <tbody>\n",
              "    <tr>\n",
              "      <th>Modified VGG16 w/ Image Augmentation</th>\n",
              "      <td>0.066241</td>\n",
              "      <td>0.979117</td>\n",
              "      <td>0.202833</td>\n",
              "      <td>0.9439</td>\n",
              "      <td>5.61%</td>\n",
              "    </tr>\n",
              "  </tbody>\n",
              "</table>\n",
              "</div>"
            ],
            "text/plain": [
              "                                      Train Loss  ...  Test Percentage Error\n",
              "Modified VGG16 w/ Image Augmentation    0.066241  ...                  5.61%\n",
              "\n",
              "[1 rows x 5 columns]"
            ]
          },
          "metadata": {},
          "execution_count": 18
        }
      ]
    },
    {
      "cell_type": "code",
      "metadata": {
        "colab": {
          "base_uri": "https://localhost:8080/",
          "height": 542
        },
        "id": "7sTbRaD-2P6Q",
        "outputId": "5b7e3653-24eb-472c-f70a-cd4cc8326f92"
      },
      "source": [
        "# Predict the values from the test dataset\n",
        "y_pred = vgg.predict(x_test)\n",
        "# Convert predictions classes to one hot encoded vectors \n",
        "y_pred_class = np.argmax(y_pred, axis = 1) \n",
        "\n",
        "w = 5\n",
        "h = 3\n",
        "fig = plt.figure(figsize=(12, 6), tight_layout=True)\n",
        "for i in range(w*h):\n",
        "  rand_idx = np.random.randint(0, len(x_test))\n",
        "  ax = fig.add_subplot(h, w, i+1)\n",
        "  ax.imshow((tf.reshape(x_test[rand_idx], (32, 32, 3))+1)/2)\n",
        "  ax.axis('off')\n",
        "  ax.set_title(f'Actual: {classes[y_test[rand_idx]]}\\nPredicted: {classes[y_pred_class[rand_idx]]}', fontsize=14)\n",
        "plt.show()"
      ],
      "execution_count": 19,
      "outputs": [
        {
          "output_type": "error",
          "ename": "InvalidArgumentError",
          "evalue": "ignored",
          "traceback": [
            "\u001b[0;31m---------------------------------------------------------------------------\u001b[0m",
            "\u001b[0;31mInvalidArgumentError\u001b[0m                      Traceback (most recent call last)",
            "\u001b[0;32m<ipython-input-19-6d861bf4394b>\u001b[0m in \u001b[0;36m<module>\u001b[0;34m()\u001b[0m\n\u001b[1;32m     10\u001b[0m   \u001b[0mrand_idx\u001b[0m \u001b[0;34m=\u001b[0m \u001b[0mnp\u001b[0m\u001b[0;34m.\u001b[0m\u001b[0mrandom\u001b[0m\u001b[0;34m.\u001b[0m\u001b[0mrandint\u001b[0m\u001b[0;34m(\u001b[0m\u001b[0;36m0\u001b[0m\u001b[0;34m,\u001b[0m \u001b[0mlen\u001b[0m\u001b[0;34m(\u001b[0m\u001b[0mx_test\u001b[0m\u001b[0;34m)\u001b[0m\u001b[0;34m)\u001b[0m\u001b[0;34m\u001b[0m\u001b[0;34m\u001b[0m\u001b[0m\n\u001b[1;32m     11\u001b[0m   \u001b[0max\u001b[0m \u001b[0;34m=\u001b[0m \u001b[0mfig\u001b[0m\u001b[0;34m.\u001b[0m\u001b[0madd_subplot\u001b[0m\u001b[0;34m(\u001b[0m\u001b[0mh\u001b[0m\u001b[0;34m,\u001b[0m \u001b[0mw\u001b[0m\u001b[0;34m,\u001b[0m \u001b[0mi\u001b[0m\u001b[0;34m+\u001b[0m\u001b[0;36m1\u001b[0m\u001b[0;34m)\u001b[0m\u001b[0;34m\u001b[0m\u001b[0;34m\u001b[0m\u001b[0m\n\u001b[0;32m---> 12\u001b[0;31m   \u001b[0max\u001b[0m\u001b[0;34m.\u001b[0m\u001b[0mimshow\u001b[0m\u001b[0;34m(\u001b[0m\u001b[0;34m(\u001b[0m\u001b[0mtf\u001b[0m\u001b[0;34m.\u001b[0m\u001b[0mreshape\u001b[0m\u001b[0;34m(\u001b[0m\u001b[0mx_test\u001b[0m\u001b[0;34m[\u001b[0m\u001b[0mrand_idx\u001b[0m\u001b[0;34m]\u001b[0m\u001b[0;34m,\u001b[0m \u001b[0;34m(\u001b[0m\u001b[0;36m32\u001b[0m\u001b[0;34m,\u001b[0m \u001b[0;36m32\u001b[0m\u001b[0;34m,\u001b[0m \u001b[0;36m3\u001b[0m\u001b[0;34m)\u001b[0m\u001b[0;34m)\u001b[0m\u001b[0;34m+\u001b[0m\u001b[0;36m1\u001b[0m\u001b[0;34m)\u001b[0m\u001b[0;34m/\u001b[0m\u001b[0;36m2\u001b[0m\u001b[0;34m)\u001b[0m\u001b[0;34m\u001b[0m\u001b[0;34m\u001b[0m\u001b[0m\n\u001b[0m\u001b[1;32m     13\u001b[0m   \u001b[0max\u001b[0m\u001b[0;34m.\u001b[0m\u001b[0maxis\u001b[0m\u001b[0;34m(\u001b[0m\u001b[0;34m'off'\u001b[0m\u001b[0;34m)\u001b[0m\u001b[0;34m\u001b[0m\u001b[0;34m\u001b[0m\u001b[0m\n\u001b[1;32m     14\u001b[0m   \u001b[0max\u001b[0m\u001b[0;34m.\u001b[0m\u001b[0mset_title\u001b[0m\u001b[0;34m(\u001b[0m\u001b[0;34mf'Actual: {classes[y_test[rand_idx]]}\\nPredicted: {classes[y_pred_class[rand_idx]]}'\u001b[0m\u001b[0;34m,\u001b[0m \u001b[0mfontsize\u001b[0m\u001b[0;34m=\u001b[0m\u001b[0;36m14\u001b[0m\u001b[0;34m)\u001b[0m\u001b[0;34m\u001b[0m\u001b[0;34m\u001b[0m\u001b[0m\n",
            "\u001b[0;32m/usr/local/lib/python3.7/dist-packages/tensorflow/python/util/traceback_utils.py\u001b[0m in \u001b[0;36merror_handler\u001b[0;34m(*args, **kwargs)\u001b[0m\n\u001b[1;32m    151\u001b[0m     \u001b[0;32mexcept\u001b[0m \u001b[0mException\u001b[0m \u001b[0;32mas\u001b[0m \u001b[0me\u001b[0m\u001b[0;34m:\u001b[0m\u001b[0;34m\u001b[0m\u001b[0;34m\u001b[0m\u001b[0m\n\u001b[1;32m    152\u001b[0m       \u001b[0mfiltered_tb\u001b[0m \u001b[0;34m=\u001b[0m \u001b[0m_process_traceback_frames\u001b[0m\u001b[0;34m(\u001b[0m\u001b[0me\u001b[0m\u001b[0;34m.\u001b[0m\u001b[0m__traceback__\u001b[0m\u001b[0;34m)\u001b[0m\u001b[0;34m\u001b[0m\u001b[0;34m\u001b[0m\u001b[0m\n\u001b[0;32m--> 153\u001b[0;31m       \u001b[0;32mraise\u001b[0m \u001b[0me\u001b[0m\u001b[0;34m.\u001b[0m\u001b[0mwith_traceback\u001b[0m\u001b[0;34m(\u001b[0m\u001b[0mfiltered_tb\u001b[0m\u001b[0;34m)\u001b[0m \u001b[0;32mfrom\u001b[0m \u001b[0;32mNone\u001b[0m\u001b[0;34m\u001b[0m\u001b[0;34m\u001b[0m\u001b[0m\n\u001b[0m\u001b[1;32m    154\u001b[0m     \u001b[0;32mfinally\u001b[0m\u001b[0;34m:\u001b[0m\u001b[0;34m\u001b[0m\u001b[0;34m\u001b[0m\u001b[0m\n\u001b[1;32m    155\u001b[0m       \u001b[0;32mdel\u001b[0m \u001b[0mfiltered_tb\u001b[0m\u001b[0;34m\u001b[0m\u001b[0;34m\u001b[0m\u001b[0m\n",
            "\u001b[0;32m/usr/local/lib/python3.7/dist-packages/tensorflow/python/eager/execute.py\u001b[0m in \u001b[0;36mquick_execute\u001b[0;34m(op_name, num_outputs, inputs, attrs, ctx, name)\u001b[0m\n\u001b[1;32m     57\u001b[0m     \u001b[0mctx\u001b[0m\u001b[0;34m.\u001b[0m\u001b[0mensure_initialized\u001b[0m\u001b[0;34m(\u001b[0m\u001b[0;34m)\u001b[0m\u001b[0;34m\u001b[0m\u001b[0;34m\u001b[0m\u001b[0m\n\u001b[1;32m     58\u001b[0m     tensors = pywrap_tfe.TFE_Py_Execute(ctx._handle, device_name, op_name,\n\u001b[0;32m---> 59\u001b[0;31m                                         inputs, attrs, num_outputs)\n\u001b[0m\u001b[1;32m     60\u001b[0m   \u001b[0;32mexcept\u001b[0m \u001b[0mcore\u001b[0m\u001b[0;34m.\u001b[0m\u001b[0m_NotOkStatusException\u001b[0m \u001b[0;32mas\u001b[0m \u001b[0me\u001b[0m\u001b[0;34m:\u001b[0m\u001b[0;34m\u001b[0m\u001b[0;34m\u001b[0m\u001b[0m\n\u001b[1;32m     61\u001b[0m     \u001b[0;32mif\u001b[0m \u001b[0mname\u001b[0m \u001b[0;32mis\u001b[0m \u001b[0;32mnot\u001b[0m \u001b[0;32mNone\u001b[0m\u001b[0;34m:\u001b[0m\u001b[0;34m\u001b[0m\u001b[0;34m\u001b[0m\u001b[0m\n",
            "\u001b[0;31mInvalidArgumentError\u001b[0m: Input to reshape is a tensor with 2352 values, but the requested shape has 3072 [Op:Reshape]"
          ]
        },
        {
          "output_type": "display_data",
          "data": {
            "image/png": "[encoded data removed]",
            "text/plain": [
              "<Figure size 864x432 with 1 Axes>"
            ]
          },
          "metadata": {}
        }
      ]
    },
    {
      "cell_type": "code",
      "metadata": {
        "id": "oFL4Jivq2RlF"
      },
      "source": [
        "from sklearn.metrics import confusion_matrix\n",
        "# compute the confusion matrix\n",
        "confusion_mtx = confusion_matrix(y_test, y_pred_class)\n",
        "\n",
        "sns.heatmap(confusion_mtx, cmap='Blues', annot=True, xticklabels=classes, yticklabels=classes, fmt='.3g')\n",
        "plt.title('Test Confusion Matrix')\n",
        "plt.xticks(rotation=90)\n",
        "plt.xlabel('Predicted Label')\n",
        "plt.ylabel('Actual Label')\n",
        "plt.show()"
      ],
      "execution_count": null,
      "outputs": []
    },
    {
      "cell_type": "code",
      "metadata": {
        "id": "P28P66lZ2TgU"
      },
      "source": [
        "from sklearn.metrics import classification_report\n",
        "# print out classification report\n",
        "print(classification_report(y_test, y_pred_class, target_names=classes))"
      ],
      "execution_count": null,
      "outputs": []
    },
    {
      "cell_type": "code",
      "metadata": {
        "id": "Fly8-WoY2UwM"
      },
      "source": [
        "# Display Model Architecture in Notebook Output\n",
        "from tensorflow.keras.utils import plot_model\n",
        "plot_model(vgg, show_shapes=True, show_dtype=True,\n",
        "    show_layer_names=True, expand_nested=True, dpi=70)"
      ],
      "execution_count": null,
      "outputs": []
    },
    {
      "cell_type": "code",
      "metadata": {
        "id": "e4HmToLr2Wfv"
      },
      "source": [
        ""
      ],
      "execution_count": null,
      "outputs": []
    }
  ]
}